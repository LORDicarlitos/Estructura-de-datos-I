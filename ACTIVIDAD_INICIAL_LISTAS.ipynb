{
  "nbformat": 4,
  "nbformat_minor": 0,
  "metadata": {
    "colab": {
      "provenance": []
    },
    "kernelspec": {
      "name": "python3",
      "display_name": "Python 3"
    },
    "language_info": {
      "name": "python"
    }
  },
  "cells": [
    {
      "cell_type": "code",
      "execution_count": 2,
      "metadata": {
        "id": "yFweCkycvykB"
      },
      "outputs": [],
      "source": [
        "class Nodo:\n",
        "   def __init__(self, value):\n",
        "      self.value = value\n",
        "      self.next = None\n",
        "      self.previous = None\n",
        "class ListaEnlazada:\n",
        "   def __init__(self):\n",
        "      self.head = None\n",
        "      self.tail = None"
      ]
    },
    {
      "cell_type": "code",
      "source": [
        "# Creamos la clase node\n",
        "class node:\n",
        "    def __init__(self, data = None, next = None):\n",
        "        self.data = data\n",
        "        self.next = next\n",
        "\n",
        "# Creamos la clase linked_list\n",
        "class linked_list: \n",
        "    def __init__(self):\n",
        "        self.head = None"
      ],
      "metadata": {
        "id": "Q8kdL2XZwLlv"
      },
      "execution_count": 1,
      "outputs": []
    }
  ]
}