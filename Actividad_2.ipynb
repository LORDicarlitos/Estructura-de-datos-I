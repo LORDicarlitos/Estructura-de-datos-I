{
  "nbformat": 4,
  "nbformat_minor": 0,
  "metadata": {
    "colab": {
      "provenance": [],
      "authorship_tag": "ABX9TyMJeX4AvlHhyc0vBSztdfbL",
      "include_colab_link": true
    },
    "kernelspec": {
      "name": "python3",
      "display_name": "Python 3"
    },
    "language_info": {
      "name": "python"
    }
  },
  "cells": [
    {
      "cell_type": "markdown",
      "metadata": {
        "id": "view-in-github",
        "colab_type": "text"
      },
      "source": [
        "<a href=\"https://colab.research.google.com/github/LORDicarlitos/Estructura-de-datos-I/blob/Actividades/Actividad_2.ipynb\" target=\"_parent\"><img src=\"https://colab.research.google.com/assets/colab-badge.svg\" alt=\"Open In Colab\"/></a>"
      ]
    },
    {
      "cell_type": "markdown",
      "source": [
        "10.\tInvestigar qué ventajas y desventajas tiene implementar clases propias para listas frente a utilizar las listas propias de Python."
      ],
      "metadata": {
        "id": "Ea7XBdB2tB3e"
      }
    },
    {
      "cell_type": "markdown",
      "source": [
        "6.\tDada una lista enlazada simple ya creada, hacer un algoritmo que vaya formando dos listas (PTR1 y PTR2) con los mismos nodos de la lista inicial de tal forma que en la lista PTR1 vayan quedando todos los elementos positivos, y en la lista PTR2 todos los elementos negativos. Si hay nodos que tengan como información el 0 se eliminan."
      ],
      "metadata": {
        "id": "mSJoKSDPaX9Q"
      }
    },
    {
      "cell_type": "code",
      "execution_count": 2,
      "metadata": {
        "id": "x9jd-KFOstfK"
      },
      "outputs": [],
      "source": [
        "class Node:\n",
        "    def __init__(self, data):\n",
        "        self.data = data\n",
        "        self.next = None\n",
        "\n",
        "class LinkedList:\n",
        "    def __init__(self):\n",
        "        self.head = None\n",
        "\n",
        "    def insert(self, data):\n",
        "        new_node = Node(data)\n",
        "        if self.head is None:\n",
        "            self.head = new_node\n",
        "        else:\n",
        "            current = self.head\n",
        "            while current.next is not None:\n",
        "                current = current.next\n",
        "            current.next = new_node\n",
        "\n",
        "    def split(self):\n",
        "        PTR1 = LinkedList()\n",
        "        PTR2 = LinkedList()\n",
        "        current = self.head\n",
        "        while current is not None:\n",
        "            if current.data == 0:\n",
        "                current = current.next\n",
        "                continue\n",
        "            if current.data > 0:\n",
        "                PTR1.insert(current.data)\n",
        "            else:\n",
        "                PTR2.insert(current.data)\n",
        "            current = current.next\n",
        "        return PTR1, PTR2"
      ]
    },
    {
      "cell_type": "code",
      "source": [
        "class Node:\n",
        "    def __init__(self, data):\n",
        "        self.data = data\n",
        "        self.next = None\n",
        "\n",
        "class LinkedList:\n",
        "    def __init__(self):\n",
        "        self.head = None\n",
        "        \n",
        "    def append(self, data):\n",
        "        new_node = Node(data)\n",
        "        \n",
        "        if self.head is None:\n",
        "            self.head = new_node\n",
        "            return\n",
        "        \n",
        "        current = self.head\n",
        "        while current.next is not None:\n",
        "            current = current.next\n",
        "        \n",
        "        current.next = new_node\n",
        "    \n",
        "    def print_list(self):\n",
        "        if self.head is None:\n",
        "            print(\"La lista está vacía\")\n",
        "        else:\n",
        "            current = self.head\n",
        "            while current is not None:\n",
        "                print(current.data, end=\" -> \")\n",
        "                current = current.next\n",
        "            print(\"None\")\n",
        "    \n",
        "    def split_list(self):\n",
        "        ptr1 = LinkedList()\n",
        "        ptr2 = LinkedList()\n",
        "        current = self.head\n",
        "        \n",
        "        while current is not None:\n",
        "            if current.data == 0:\n",
        "                current = current.next\n",
        "                continue\n",
        "            elif current.data > 0:\n",
        "                ptr1.append(current.data)\n",
        "            else:\n",
        "                ptr2.append(current.data)\n",
        "            \n",
        "            current = current.next\n",
        "        \n",
        "        return ptr1, ptr2\n"
      ],
      "metadata": {
        "id": "qsKmewVYcu_X"
      },
      "execution_count": 5,
      "outputs": []
    },
    {
      "cell_type": "code",
      "source": [],
      "metadata": {
        "id": "34-mJztYsDT5",
        "outputId": "09057bed-75f3-43e7-8285-740baf0b95c1",
        "colab": {
          "base_uri": "https://localhost:8080/"
        }
      },
      "execution_count": 7,
      "outputs": [
        {
          "output_type": "stream",
          "name": "stdout",
          "text": [
            "Los mejores juegos de game boy advanced\n"
          ]
        }
      ]
    }
  ]
}