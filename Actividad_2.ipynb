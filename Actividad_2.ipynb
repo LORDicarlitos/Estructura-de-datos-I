{
  "nbformat": 4,
  "nbformat_minor": 0,
  "metadata": {
    "colab": {
      "provenance": [],
      "authorship_tag": "ABX9TyMEZi2Eb/BxfbecRV+N5dDH",
      "include_colab_link": true
    },
    "kernelspec": {
      "name": "python3",
      "display_name": "Python 3"
    },
    "language_info": {
      "name": "python"
    }
  },
  "cells": [
    {
      "cell_type": "markdown",
      "metadata": {
        "id": "view-in-github",
        "colab_type": "text"
      },
      "source": [
        "<a href=\"https://colab.research.google.com/github/LORDicarlitos/Estructura-de-datos-I/blob/Actividades/Actividad_2.ipynb\" target=\"_parent\"><img src=\"https://colab.research.google.com/assets/colab-badge.svg\" alt=\"Open In Colab\"/></a>"
      ]
    },
    {
      "cell_type": "markdown",
      "source": [
        "10.\tInvestigar qué ventajas y desventajas tiene implementar clases propias para listas frente a utilizar las listas propias de Python."
      ],
      "metadata": {
        "id": "Ea7XBdB2tB3e"
      }
    },
    {
      "cell_type": "code",
      "execution_count": null,
      "metadata": {
        "id": "x9jd-KFOstfK"
      },
      "outputs": [],
      "source": []
    }
  ]
}